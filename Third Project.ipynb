{
 "cells": [
  {
   "cell_type": "code",
   "execution_count": 1,
   "metadata": {},
   "outputs": [],
   "source": [
    "import numpy as np\n",
    "import matplotlib.pyplot as plt\n",
    "import random"
   ]
  },
  {
   "attachments": {
    "image.png": {
     "image/png": "[encoded data removed]"
    }
   },
   "cell_type": "markdown",
   "metadata": {},
   "source": [
    "## Part 1\n",
    "\n",
    "Consider the following grid world problem.\n",
    "\n",
    "![image.png](attachment:image.png)\n",
    "\n",
    "The agent starts at the blue square and moves to a neighbouring state with equal probability. If the agent moves to a red state, it receives a reward of −20 and goes back to the start, i.e., the blue square. A move between any two other states receives a reward of −1. A move that attempts to move outside of the grid receives a reward of −1. The black squares serve as a terminal states. Intuitively, you can see how the goal here is to pass through the opening in the red “wall” and get to one of the black squares and hence terminate the episode. Use the Sarsa and Q-learning algorithms to learn the optimal policy for this task. Plot a trajectory of an agent utlizing the policy learned by each of the methods. Are they different or similar? Why or why not? You may assume to use ϵ-greedy action selection for this task. How does the sum of rewards over an episode behaves for each of these two methods."
   ]
  },
  {
   "cell_type": "markdown",
   "metadata": {},
   "source": [
    "### SARSA"
   ]
  },
  {
   "cell_type": "code",
   "execution_count": 2,
   "metadata": {},
   "outputs": [],
   "source": [
    "Grid_size = 5\n",
    "\n",
    "Alpha = 0.1\n",
    "\n",
    "Gamma = 0.95\n",
    "\n",
    "step = [[-1,0],[1,0],[0,-1],[0,1]] #Up #Down #Left #Right\n",
    "step_c = [\"Up\", \"Down\", \"Left\", \"Right\"]\n",
    "Q_SARSA = np.zeros((Grid_size,Grid_size))\n",
    "\n"
   ]
  },
  {
   "cell_type": "code",
   "execution_count": 3,
   "metadata": {},
   "outputs": [],
   "source": [
    "def Reward_And_Transition_Part_1(Current_Step, Action):\n",
    "\n",
    "    if Current_Step == [0,0]:\n",
    "        Next_Step = [0,0]\n",
    "        Reward = 0\n",
    "        return  Next_Step, Reward\n",
    "    \n",
    "    elif Current_Step == [0,4]:\n",
    "        Next_Step = [0,4]\n",
    "        Reward = 0\n",
    "        return  Next_Step, Reward\n",
    "    \n",
    "    if Current_Step == [2,0] or Current_Step == [2,1] or Current_Step == [2,3] or Current_Step == [2,4]:\n",
    "        Next_Step = [4,0]\n",
    "        Reward = -20\n",
    "        return  Next_Step, Reward\n",
    "\n",
    "    Next_Step = [a + b for a, b in zip(Current_Step, Action)]\n",
    "    Reward = -1\n",
    "    \n",
    "    if Next_Step[0] < 0 or Next_Step[0] > 4 or Next_Step[1] < 0 or Next_Step[1] > 4:\n",
    "        Reward = -1\n",
    "        return Current_Step, Reward\n",
    "    \n",
    "\n",
    "    return Next_Step, Reward"
   ]
  },
  {
   "cell_type": "code",
   "execution_count": 4,
   "metadata": {},
   "outputs": [],
   "source": [
    "  \n",
    "def Next_Action_EGreedy(Q, i,j,epsilon = 0.1):\n",
    "    if random.uniform(0, 1) < epsilon:\n",
    "        Random_number = random.randint(0,3)\n",
    "        Action = step[Random_number]\n",
    "    else:\n",
    "        if i == 0:\n",
    "            i = 1\n",
    "        if i == 4:\n",
    "            i = 3\n",
    "        if j == 0:\n",
    "            j = 1\n",
    "        if j == 4:\n",
    "            j = 3\n",
    "\n",
    "        up = Q[i-1,j]\n",
    "        down = Q[i+1,j]\n",
    "        left = Q[i,j-1]\n",
    "        right = Q[i,j+1]\n",
    "        Max_Value = np.argmax([up,down,left,right])\n",
    "        Action = step[Max_Value]\n",
    "    return Action\n",
    "    "
   ]
  },
  {
   "cell_type": "code",
   "execution_count": 5,
   "metadata": {},
   "outputs": [],
   "source": [
    "def Plot_Policy(Q):\n",
    "    Q = np.pad(Q, pad_width=1, mode='constant', constant_values=-100)\n",
    "\n",
    "    matrix = [['' for _ in range(Grid_size)] for _ in range(Grid_size)]\n",
    "\n",
    "    for i in range(1,Grid_size+1):\n",
    "        for j in range(1,Grid_size+1):\n",
    "            up = Q[i-1,j]\n",
    "            down = Q[i+1,j]\n",
    "            left = Q[i,j-1]\n",
    "            right = Q[i,j+1]\n",
    "            \n",
    "            Max_Value = np.argmax([up,down,left,right])\n",
    "            matrix[i-1][j-1] = step_c[Max_Value]\n",
    "            #print(Q[i,j])\n",
    "            #print(step_c[Max_Value])\n",
    "            #print([up,down,left,right])\n",
    "\n",
    "    fig, ax = plt.subplots()\n",
    "    ax.grid(False)\n",
    "    ax.set_xticks([])\n",
    "    ax.set_yticks([])\n",
    "\n",
    "    for i in range(Grid_size):\n",
    "        for j in range(Grid_size):\n",
    "            ax.text(j, i, matrix[i][j], va='center', ha='center')\n",
    "\n",
    "    ax.set_xlim(-0.5, Grid_size - 0.5)\n",
    "    ax.set_ylim(Grid_size - 0.5, -0.5)\n",
    "\n",
    "    plt.show()"
   ]
  },
  {
   "cell_type": "code",
   "execution_count": 6,
   "metadata": {},
   "outputs": [],
   "source": [
    "for i in range(100000):\n",
    "    Current_Position = [4,0]\n",
    "    while True:\n",
    "        \n",
    "        Action = Next_Action_EGreedy(Q_SARSA,Current_Position[0], Current_Position[1])\n",
    "        Next_Position, Reward = Reward_And_Transition_Part_1(Current_Position, Action)\n",
    "        Q_SARSA[Current_Position[0], Current_Position[1]] += Alpha * (Reward + Gamma * (Q_SARSA[Next_Position[0], Next_Position[1]] - Q_SARSA[Current_Position[0], Current_Position[1]])    )\n",
    "        Current_Position = Next_Position\n",
    "        if Reward == 0:\n",
    "            break "
   ]
  },
  {
   "cell_type": "markdown",
   "metadata": {},
   "source": [
    "#### Trajectory "
   ]
  },
  {
   "cell_type": "code",
   "execution_count": 7,
   "metadata": {},
   "outputs": [
    {
     "data": {
      "image/png": "[encoded data removed]",
      "text/plain": [
       "<Figure size 640x480 with 1 Axes>"
      ]
     },
     "metadata": {},
     "output_type": "display_data"
    }
   ],
   "source": [
    "Plot_Policy(Q_SARSA) "
   ]
  },
  {
   "cell_type": "markdown",
   "metadata": {},
   "source": [
    "#### Matrix Value"
   ]
  },
  {
   "cell_type": "code",
   "execution_count": 8,
   "metadata": {},
   "outputs": [
    {
     "data": {
      "text/plain": [
       "array([[  0.   , -36.174, -27.099, -19.489,   0.   ],\n",
       "       [-39.717, -35.366, -27.274, -22.764, -21.417],\n",
       "       [-62.929, -63.464, -29.993, -63.65 , -64.528],\n",
       "       [-44.039, -42.353, -32.653, -44.606, -47.867],\n",
       "       [-40.22 , -37.825, -35.249, -45.193, -51.038]])"
      ]
     },
     "execution_count": 8,
     "metadata": {},
     "output_type": "execute_result"
    }
   ],
   "source": [
    "np.round(Q_SARSA, decimals=3)"
   ]
  },
  {
   "cell_type": "markdown",
   "metadata": {},
   "source": [
    "### Q-Learning"
   ]
  },
  {
   "cell_type": "code",
   "execution_count": 9,
   "metadata": {},
   "outputs": [],
   "source": [
    "Q_Learning = np.zeros((5,5))"
   ]
  },
  {
   "cell_type": "code",
   "execution_count": 11,
   "metadata": {},
   "outputs": [],
   "source": [
    "for i in range(100000):\n",
    "    Current_Position = [4,0]\n",
    "    while True:\n",
    "\n",
    "        Action = Next_Action_EGreedy(Q_Learning, Current_Position[0], Current_Position[1], epsilon=0.2)\n",
    "\n",
    "        Next_Position, Reward = Reward_And_Transition_Part_1(Current_Position, Action)\n",
    "\n",
    "        Q_Learning[Current_Position[0], Current_Position[1]] += Alpha * (Reward + Gamma * (Q_Learning[Next_Position[0], Next_Position[1]] - Q_Learning[Current_Position[0], Current_Position[1]]) )\n",
    "        \n",
    "        \n",
    "        Current_Position = Next_Position\n",
    "        if Reward == 0:\n",
    "            break "
   ]
  },
  {
   "cell_type": "code",
   "execution_count": 12,
   "metadata": {},
   "outputs": [
    {
     "data": {
      "text/plain": [
       "array([[  0.   , -22.443, -30.241, -22.705,   0.   ],\n",
       "       [-23.839, -31.094, -31.626, -32.478, -24.976],\n",
       "       [-58.739, -62.701, -33.841, -62.941, -60.035],\n",
       "       [-44.198, -40.763, -37.417, -42.512, -42.563],\n",
       "       [-42.784, -41.818, -39.975, -44.139, -47.221]])"
      ]
     },
     "execution_count": 12,
     "metadata": {},
     "output_type": "execute_result"
    }
   ],
   "source": [
    "np.round(Q_Learning, decimals=3)"
   ]
  },
  {
   "cell_type": "code",
   "execution_count": 13,
   "metadata": {},
   "outputs": [
    {
     "data": {
      "image/png": "[encoded data removed]",
      "text/plain": [
       "<Figure size 640x480 with 1 Axes>"
      ]
     },
     "metadata": {},
     "output_type": "display_data"
    }
   ],
   "source": [
    "Plot_Policy(Q_Learning)"
   ]
  },
  {
   "cell_type": "markdown",
   "metadata": {},
   "source": [
    "## Part 2\n",
    "\n",
    "Consider a scenario where we have a random walk on a 7 × 7 grid. That is, we are equally likely to move up, down, left, or right. Suppose that we start the random walk at the precise center of the grid.\n",
    "\n",
    "We assume that the lower left and upper right corners are terminal states, with, respectively, rewards of −1 and 1. Rewards for transitions between two states are 0, if an attempt to transition outside the wall is made, the agent stays in the same spot and receives a reward of 0. Compute the value function for this “random walk” policy using (1) gradient Monte Carlo method and (2) the semi-gradient TD(0) method with an affine function approximation. How does it compare to the exact value function?"
   ]
  },
  {
   "cell_type": "code",
   "execution_count": null,
   "metadata": {},
   "outputs": [],
   "source": []
  }
 ],
 "metadata": {
  "kernelspec": {
   "display_name": "Python 3",
   "language": "python",
   "name": "python3"
  },
  "language_info": {
   "codemirror_mode": {
    "name": "ipython",
    "version": 3
   },
   "file_extension": ".py",
   "mimetype": "text/x-python",
   "name": "python",
   "nbconvert_exporter": "python",
   "pygments_lexer": "ipython3",
   "version": "3.9.12"
  }
 },
 "nbformat": 4,
 "nbformat_minor": 2
}
